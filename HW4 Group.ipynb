{
 "cells": [
  {
   "cell_type": "code",
   "execution_count": 1,
   "id": "71b47598",
   "metadata": {},
   "outputs": [],
   "source": [
    "#imports\n",
    "import numpy as np\n",
    "import matplotlib.pyplot as plt\n",
    "import scipy.integrate as inte\n",
    "\n",
    "%matplotlib inline"
   ]
  },
  {
   "cell_type": "code",
   "execution_count": 2,
   "id": "d0683a87",
   "metadata": {},
   "outputs": [],
   "source": [
    "#constants in cgs units\n",
    "m_e = 9.109*(10**-28)\n",
    "q = 4.803*(10**-10)\n",
    "h=6.626*(10**-27)\n",
    "c = 2.99 * (10**10)\n",
    "k = 1.381 * (10**-16)\n",
    "m_h = 1.67 * (10**-27) *1000"
   ]
  },
  {
   "cell_type": "markdown",
   "id": "6cc4c2a5",
   "metadata": {},
   "source": [
    "# Problem H.a"
   ]
  },
  {
   "cell_type": "code",
   "execution_count": 3,
   "id": "d25c9979",
   "metadata": {},
   "outputs": [],
   "source": [
    "#function for finding v_n. returns in Hertz\n",
    "def frequency_cutoff(n):\n",
    "\n",
    "    return (2 * (np.pi**2) * m_e * (q**4)) / ((h**3) * (n**2))"
   ]
  },
  {
   "cell_type": "code",
   "execution_count": 4,
   "id": "95179d2c",
   "metadata": {},
   "outputs": [],
   "source": [
    "#function for finding cross section for a given n (note that it assumes that v>v_n) \n",
    "def cross_section_n(v,n,T):\n",
    "    exp_x = -(2 * (1 - (1/(n**2))) * (np.pi**2) * m_e * (q**4)) / ((h**2) * k * T)\n",
    "    return (64 * (np.pi**4) * m_e * (q**10) * np.exp(exp_x)  )/ (3 * np.sqrt(3) * (h**6) * (v**3) * (n**3) * c) "
   ]
  },
  {
   "cell_type": "markdown",
   "id": "275f1049",
   "metadata": {},
   "source": [
    "Function for finding the total cross section for a given frequency. We chose n=20 as the cut off point by graphing the form of the function (n^-3 * e^-(1-1/n^2) and noting that it dropped below 10^-3 by n=10. To be on the safe side we added some more terms in, since the code runs fast enough that it doesn't make too much of a difference. It also ended up being useful as it made the lower limit of frequency we could calculate almost exactly 10^13. "
   ]
  },
  {
   "cell_type": "code",
   "execution_count": 5,
   "id": "6c2a292a",
   "metadata": {},
   "outputs": [],
   "source": [
    "#function for finding total cross section.\n",
    "def cross_section(v,T):\n",
    "    sig = 0\n",
    "    for n in range(1,21):\n",
    "        if v > frequency_cutoff(n):\n",
    "            sig += cross_section_n(v,n,T)\n",
    "    return sig"
   ]
  },
  {
   "cell_type": "markdown",
   "id": "c4836fa5",
   "metadata": {},
   "source": [
    "Crossection for frequencies between 10^14 and 10^17 Hertz with T=5800K. Went up to 10^17 as a limit I think it more clearly shows the final peak in crossection. Each peak corresponds to an energy level, since they occur when v becomes greater than the next v_n. The last peak is at v=v_1 = 3*10^15. "
   ]
  },
  {
   "cell_type": "code",
   "execution_count": 6,
   "id": "c0c6e818",
   "metadata": {},
   "outputs": [
    {
     "data": {
      "image/png": "[encoded data removed]",
      "text/plain": [
       "<Figure size 640x480 with 1 Axes>"
      ]
     },
     "metadata": {},
     "output_type": "display_data"
    }
   ],
   "source": [
    "x = np.linspace(10**14,10**17,10**4)\n",
    "y = []\n",
    "    \n",
    "for i in range(len(x)):\n",
    "    y.append(cross_section(x[i],5800))\n",
    "\n",
    "plt.plot(x,y)\n",
    "plt.xscale('log')\n",
    "plt.yscale('log')\n",
    "plt.ylabel('$\\sigma$')\n",
    "\n",
    "plt.xlabel('v')\n",
    "plt.title('Frequency vs Ionazation Crosssection')\n",
    "plt.show()"
   ]
  },
  {
   "cell_type": "markdown",
   "id": "860b06db",
   "metadata": {},
   "source": [
    "# H.b"
   ]
  },
  {
   "cell_type": "code",
   "execution_count": 13,
   "id": "cb65b4fa",
   "metadata": {},
   "outputs": [],
   "source": [
    "#finds the opacity from the crossection\n",
    "def kappa(sig):\n",
    "    return sig/m_h\n"
   ]
  },
  {
   "cell_type": "code",
   "execution_count": 8,
   "id": "5caca76b",
   "metadata": {},
   "outputs": [],
   "source": [
    "#planck's function in terms of frequency and temperature\n",
    "def black_body(v,T):\n",
    "    return 2 * h * (v**3) / ((c**2)*(np.exp(h*v/(k*T))-1))\n",
    "    "
   ]
  },
  {
   "cell_type": "code",
   "execution_count": 9,
   "id": "10bd4815",
   "metadata": {},
   "outputs": [],
   "source": [
    "#the top integrand \n",
    "def top_integrand(v,T):\n",
    "    return black_body(v,T)/kappa(cross_section(v,T))"
   ]
  },
  {
   "cell_type": "markdown",
   "id": "6812bf60",
   "metadata": {},
   "source": [
    "Finding the Rosseland mean opacity. The bounds were found via graphing both the top integrand and the blackbody function and cutting them off in order to make the numerical integration easier. Because we cut off the crosssection function at n=20, any frequency below v_20 has a crossection of 0. The blackbody formula overflows above 10^16, so we cut it off there, noting that both the top integrand and the blackbody function itself are both rapidly decreasing in magnitude past 10^16 and therefore no longer contributing substantially to the integral. "
   ]
  },
  {
   "cell_type": "code",
   "execution_count": 22,
   "id": "1c7b7efa",
   "metadata": {},
   "outputs": [],
   "source": [
    "inverse_kappa = inte.quad(top_integrand,frequency_cutoff(20),10**16,limit=10**5, args=5800)[0]/inte.quad(black_body,1,10**16,args=5800)[0]"
   ]
  },
  {
   "cell_type": "code",
   "execution_count": 25,
   "id": "fd53450a",
   "metadata": {},
   "outputs": [
    {
     "name": "stdout",
     "output_type": "stream",
     "text": [
      "0.001503151462304475\n"
     ]
    }
   ],
   "source": [
    "Rosseland = 1 / inverse_kappa \n",
    "print(Rosseland)"
   ]
  },
  {
   "cell_type": "code",
   "execution_count": null,
   "id": "fb69c4b8",
   "metadata": {},
   "outputs": [],
   "source": []
  }
 ],
 "metadata": {
  "kernelspec": {
   "display_name": "Python 3 (ipykernel)",
   "language": "python",
   "name": "python3"
  },
  "language_info": {
   "codemirror_mode": {
    "name": "ipython",
    "version": 3
   },
   "file_extension": ".py",
   "mimetype": "text/x-python",
   "name": "python",
   "nbconvert_exporter": "python",
   "pygments_lexer": "ipython3",
   "version": "3.11.4"
  }
 },
 "nbformat": 4,
 "nbformat_minor": 5
}
